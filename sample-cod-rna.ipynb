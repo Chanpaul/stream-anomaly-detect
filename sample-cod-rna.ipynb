{
 "cells": [
  {
   "cell_type": "markdown",
   "metadata": {},
   "source": [
    "# Streaming Anomaly Detection for the Cod-RNA dataset\n",
    "\n",
    "H. Huang and S. Kasiviswanathan, \"**Streaming Anomaly Detection Using Randomized Matrix Sketching**,\" http://bit.ly/1FaDw6S."
   ]
  },
  {
   "cell_type": "code",
   "execution_count": 1,
   "metadata": {
    "collapsed": true
   },
   "outputs": [],
   "source": [
    "import numpy as np\n",
    "import numpy.linalg as ln\n",
    "import pandas as pd\n",
    "import sklearn.metrics as met\n",
    "\n",
    "%matplotlib inline\n",
    "import matplotlib.pyplot as plt"
   ]
  },
  {
   "cell_type": "code",
   "execution_count": 2,
   "metadata": {
    "collapsed": false
   },
   "outputs": [],
   "source": [
    "%load_ext autoreload\n",
    "%autoreload 2\n",
    "\n",
    "from anom_detect import AnomDetect"
   ]
  },
  {
   "cell_type": "markdown",
   "metadata": {},
   "source": [
    "## Data preparation\n",
    "\n",
    "CodRNA dataset is available: https://www.csie.ntu.edu.tw/~cjlin/libsvmtools/datasets/binary.html"
   ]
  },
  {
   "cell_type": "code",
   "execution_count": 3,
   "metadata": {
    "collapsed": false
   },
   "outputs": [
    {
     "data": {
      "text/plain": [
       "((8, 488565), (488565,))"
      ]
     },
     "execution_count": 3,
     "metadata": {},
     "output_type": "execute_result"
    }
   ],
   "source": [
    "def read_CodRNA(path):\n",
    "    \"\"\"\n",
    "    Read Cod-RNA dataset with given path\n",
    "    Data format:\n",
    "        label 1:xxx 2:xxx 3:xxx ... 8:xxx\n",
    "    \"\"\"\n",
    "    X = []\n",
    "    y = []\n",
    "\n",
    "    with open(path) as f:\n",
    "        lines = f.readlines()\n",
    "        for line in lines:\n",
    "            l = line.rstrip().split(' ')\n",
    "            y.append(int(l[0]))\n",
    "            x = []\n",
    "            for i in range(1, 9): # 8 features in total\n",
    "                x.append(float(l[i][2:]))\n",
    "            X.append(x)\n",
    "    \n",
    "    return np.asarray(X).T, np.asarray(y)\n",
    "\n",
    "# read all Cod-RNA dataset and merge them\n",
    "X_train, y_train = read_CodRNA('../../data/cod-rna/cod-rna.train')\n",
    "X_valid, y_valid = read_CodRNA('../../data/cod-rna/cod-rna.valid')\n",
    "X_unused, y_unused = read_CodRNA('../../data/cod-rna/cod-rna.unused')\n",
    "\n",
    "X = np.hstack((X_train, X_valid, X_unused))\n",
    "y = np.hstack((y_train, y_valid, y_unused))\n",
    "\n",
    "X.shape, y.shape"
   ]
  },
  {
   "cell_type": "code",
   "execution_count": 4,
   "metadata": {
    "collapsed": false
   },
   "outputs": [
    {
     "data": {
      "text/plain": [
       "0.3333333333333333"
      ]
     },
     "execution_count": 4,
     "metadata": {},
     "output_type": "execute_result"
    }
   ],
   "source": [
    "# number of anomalies; 33.33% of 488565 samples\n",
    "np.where(y == 1)[0].size / float(y.size)"
   ]
  },
  {
   "cell_type": "code",
   "execution_count": 5,
   "metadata": {
    "collapsed": false
   },
   "outputs": [
    {
     "data": {
      "text/plain": [
       "(8, 2000)"
      ]
     },
     "execution_count": 5,
     "metadata": {},
     "output_type": "execute_result"
    }
   ],
   "source": [
    "# training data is randomly sampled 2000 non-anomalies (label=-1)\n",
    "all_good_idx = np.where(y == -1)[0]\n",
    "np.random.shuffle(all_good_idx)\n",
    "Y0 = X[:, all_good_idx[:2000]]\n",
    "Y0.shape"
   ]
  },
  {
   "cell_type": "markdown",
   "metadata": {},
   "source": [
    "## Anomaly detection"
   ]
  },
  {
   "cell_type": "code",
   "execution_count": 6,
   "metadata": {
    "collapsed": false
   },
   "outputs": [],
   "source": [
    "# initialize and train anomaly detector\n",
    "# percentage of anomalies (0.33) is given as a prior knowledge\n",
    "detector = AnomDetect(Y0, criterion='p', criterion_v=0.33)"
   ]
  },
  {
   "cell_type": "code",
   "execution_count": 7,
   "metadata": {
    "collapsed": false
   },
   "outputs": [
    {
     "data": {
      "text/plain": [
       "486565"
      ]
     },
     "execution_count": 7,
     "metadata": {},
     "output_type": "execute_result"
    }
   ],
   "source": [
    "# generate all test indices, and omit indices of training samples\n",
    "all_idx = np.array(xrange(y.size))\n",
    "idx = np.setdiff1d(all_idx, all_good_idx[:2000])\n",
    "np.random.shuffle(idx)\n",
    "n_idx = idx.size # 488565 - 2000\n",
    "n_idx"
   ]
  },
  {
   "cell_type": "code",
   "execution_count": 8,
   "metadata": {
    "collapsed": false
   },
   "outputs": [],
   "source": [
    "# draw ROC curve for various thresholds\n",
    "\n",
    "TPRs = []\n",
    "FPRs = []\n",
    "\n",
    "# try 20 different thresholds\n",
    "for n in range(20):\n",
    "    th = n * .02\n",
    "    \n",
    "    # train randomly sampled 2000 normal samples\n",
    "    detector = AnomDetect(Y0, criterion='th', criterion_v=th)\n",
    "\n",
    "    # test 5000 samples ramdomly picked from non-train samples\n",
    "    all_idx = np.array(xrange(y.size))\n",
    "    idx = np.setdiff1d(all_idx, all_good_idx[:2000])\n",
    "    np.random.shuffle(idx)\n",
    "    anomaly_idx, non_anomaly_idx = detector.detect(X[:, idx[:5000]])\n",
    "\n",
    "    y_this_step = y[idx[:5000]]\n",
    "    TP = np.where(y_this_step[anomaly_idx] == 1)[0].size\n",
    "    FP = np.where(y_this_step[anomaly_idx] == -1)[0].size\n",
    "    TN = np.where(y_this_step[non_anomaly_idx] == -1)[0].size\n",
    "    FN = np.where(y_this_step[non_anomaly_idx] == 1)[0].size\n",
    "\n",
    "    FPR = FP / float(TN + FP)\n",
    "    FPRs.append(FPR)\n",
    "\n",
    "    TPR = TP / float(TP + FN)\n",
    "    TPRs.append(TPR)"
   ]
  },
  {
   "cell_type": "code",
   "execution_count": 9,
   "metadata": {
    "collapsed": false
   },
   "outputs": [
    {
     "data": {
      "image/png": "[encoded data removed]",
      "text/plain": [
       "<matplotlib.figure.Figure at 0x10a97e510>"
      ]
     },
     "metadata": {},
     "output_type": "display_data"
    }
   ],
   "source": [
    "# plot the result\n",
    "\n",
    "fig, ax = plt.subplots()\n",
    "ax.plot(FPRs, TPRs)\n",
    "ax.set_xlabel('FP')\n",
    "ax.set_ylabel('TP')\n",
    "ax.grid(True)\n",
    "fig.set_size_inches((5.5,3))\n",
    "fig.patch.set_alpha(0.0)"
   ]
  },
  {
   "cell_type": "code",
   "execution_count": null,
   "metadata": {
    "collapsed": true
   },
   "outputs": [],
   "source": []
  }
 ],
 "metadata": {
  "kernelspec": {
   "display_name": "Python 2",
   "language": "python",
   "name": "python2"
  },
  "language_info": {
   "codemirror_mode": {
    "name": "ipython",
    "version": 2
   },
   "file_extension": ".py",
   "mimetype": "text/x-python",
   "name": "python",
   "nbconvert_exporter": "python",
   "pygments_lexer": "ipython2",
   "version": "2.7.10"
  }
 },
 "nbformat": 4,
 "nbformat_minor": 0
}
